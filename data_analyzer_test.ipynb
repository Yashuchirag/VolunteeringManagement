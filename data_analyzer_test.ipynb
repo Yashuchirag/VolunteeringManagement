{
 "cells": [
  {
   "cell_type": "code",
   "execution_count": 1,
   "id": "41d616d1",
   "metadata": {},
   "outputs": [
    {
     "name": "stdout",
     "output_type": "stream",
     "text": [
      "Requirement already satisfied: psycopg2 in c:\\python311\\lib\\site-packages (2.9.9)\n"
     ]
    }
   ],
   "source": [
    "!pip3 install psycopg2"
   ]
  },
  {
   "cell_type": "code",
   "execution_count": 2,
   "id": "5e9f4627",
   "metadata": {},
   "outputs": [],
   "source": [
    "import psycopg2\n",
    "import numpy as np"
   ]
  },
  {
   "cell_type": "code",
   "execution_count": 3,
   "id": "1049b4cb",
   "metadata": {},
   "outputs": [],
   "source": [
    "# establishing the connection\n",
    "conn = psycopg2.connect(\n",
    "    database=\"postgres\",\n",
    "    user='postgres',\n",
    "    password='postgrespassword',\n",
    "    host='localhost',\n",
    "    port='5432'\n",
    ")"
   ]
  },
  {
   "cell_type": "code",
   "execution_count": 4,
   "id": "f7c66896",
   "metadata": {},
   "outputs": [],
   "source": [
    "# Creating a cursor object using the cursor() method\n",
    "cursor = conn.cursor()\n",
    "\n",
    "# Check if the volunteer_table_test table exists\n",
    "cursor.execute(\"SELECT EXISTS (SELECT FROM information_schema.tables WHERE table_name = 'volunteer_table_test')\")\n",
    "table_exists = cursor.fetchone()[0]\n",
    "\n",
    "# If the table exists, drop it\n",
    "if table_exists:\n",
    "    cursor.execute(\"DROP TABLE IF EXISTS volunteer_table_test\")\n",
    "    \n",
    "\n",
    "    \n",
    "    \n",
    "# Creating a second cursor object using the cursor() method\n",
    "cursor2 = conn.cursor()\n",
    "\n",
    "# Check if the event_list table exists\n",
    "cursor2.execute(\"SELECT EXISTS (SELECT FROM information_schema.tables WHERE table_name = 'event_list')\")\n",
    "table_exists = cursor2.fetchone()[0]\n",
    "\n",
    "# If the table exists, drop it\n",
    "if table_exists:\n",
    "    cursor2.execute(\"DROP TABLE IF EXISTS event_list\")"
   ]
  },
  {
   "cell_type": "code",
   "execution_count": 5,
   "id": "5238dbf0",
   "metadata": {},
   "outputs": [],
   "source": [
    "# SQL statement to create the table\n",
    "sql = '''CREATE TABLE VOLUNTEER_TABLE_TEST(\n",
    "   EMAIL VARCHAR(255) NOT NULL PRIMARY KEY,\n",
    "   PASSWORD VARCHAR(100) NOT NULL  \n",
    ")'''\n",
    "cursor.execute(sql)\n",
    "\n",
    "\n",
    "\n",
    "\n",
    "\n",
    "# SQL statement to create the table\n",
    "sql2 = '''CREATE TABLE EVENT_LIST(\n",
    "   EVENT_NAME VARCHAR(255) NOT NULL PRIMARY KEY,\n",
    "   DATE VARCHAR(100) NOT NULL,\n",
    "   TIME VARCHAR(100) NOT NULL,\n",
    "   EVENT_DESCRIPTION VARCHAR(1000),\n",
    "   VALID_DATE VARCHAR(1) NOT NULL\n",
    ")'''\n",
    "cursor2.execute(sql2)"
   ]
  },
  {
   "cell_type": "code",
   "execution_count": 6,
   "id": "b752baf3",
   "metadata": {},
   "outputs": [],
   "source": [
    "# Inserting values into the credentials table\n",
    "insert_stmt1 = \"INSERT INTO VOLUNTEER_TABLE_TEST (EMAIL, PASSWORD) VALUES (%s, %s)\"\n",
    "data1 = [('TEST1', 'pw1'),\n",
    "        ('TEST2', 'pw2'),\n",
    "        ]\n",
    "cursor.executemany(insert_stmt1, data1)"
   ]
  },
  {
   "cell_type": "code",
   "execution_count": 7,
   "id": "63d211f8",
   "metadata": {},
   "outputs": [],
   "source": [
    "# Inserting values into the events table\n",
    "insert_stmt2 = \"INSERT INTO EVENT_LIST (EVENT_NAME, DATE, TIME, EVENT_DESCRIPTION, VALID_DATE) VALUES (%s, %s, %s, %s, %s)\"\n",
    "data2 = [('EVENT1', '30 April 2024', '1 pm', '',1),\n",
    "        ('EVENT2', '2 May 2024', '10 am', \"\",1),\n",
    "        ]\n",
    "cursor2.executemany(insert_stmt2, data2)"
   ]
  },
  {
   "cell_type": "code",
   "execution_count": 8,
   "id": "2ebe6da2",
   "metadata": {},
   "outputs": [],
   "source": [
    "# Display whole table\n",
    "# cursor.execute(\"SELECT * FROM VOLUNTEER_TABLE_TEST\")\n",
    "# data = cursor.fetchall()[0]\n",
    "# print(type(data),'\\n\\n', data,'\\n\\n', data[0])"
   ]
  },
  {
   "cell_type": "code",
   "execution_count": 9,
   "id": "9c6d9714",
   "metadata": {},
   "outputs": [],
   "source": [
    "cursor.execute(\"SELECT COUNT(EMAIL) FROM VOLUNTEER_TABLE_TEST;\")\n",
    "cursor2.execute(\"SELECT DATE, VALID_DATE from EVENT_LIST;\")\n",
    "# SELECT COUNT(column_name) FROM table_name;"
   ]
  },
  {
   "cell_type": "code",
   "execution_count": 10,
   "id": "edadc9d6",
   "metadata": {},
   "outputs": [],
   "source": [
    "volunteer_count = cursor.fetchall()[0][0]\n",
    "event_data = cursor2.fetchall()\n",
    "\n",
    "dates = [row[0] for row in event_data]\n",
    "valid_dates = [row[1] for row in event_data]\n",
    "# print(volunteer_count[0][0])\n",
    "# print(data,'\\n\\n', volunteer_count,'\\n\\n')"
   ]
  },
  {
   "cell_type": "code",
   "execution_count": 11,
   "id": "9f071989",
   "metadata": {},
   "outputs": [
    {
     "data": {
      "text/plain": [
       "(['30 April 2024', '2 May 2024'], ['1', '1'])"
      ]
     },
     "execution_count": 11,
     "metadata": {},
     "output_type": "execute_result"
    }
   ],
   "source": [
    "dates, valid_dates"
   ]
  },
  {
   "cell_type": "code",
   "execution_count": 12,
   "id": "6045be74",
   "metadata": {},
   "outputs": [
    {
     "name": "stdout",
     "output_type": "stream",
     "text": [
      "Count signed up volunteer count is 2\n",
      "\n",
      "\n",
      "The date and valid_date are (['30 April 2024', '2 May 2024'], ['1', '1'])\n"
     ]
    }
   ],
   "source": [
    "print(f\"Count signed up volunteer count is {volunteer_count}\")\n",
    "print(f\"\\n\\nThe date and valid_date are {dates, valid_dates}\")\n"
   ]
  },
  {
   "cell_type": "code",
   "execution_count": 13,
   "id": "2757f0bc",
   "metadata": {},
   "outputs": [],
   "source": [
    "from datetime import datetime\n",
    "\n",
    "# Check if the event date is in the future\n",
    "current_date = datetime.now().date()\n",
    "\n",
    "for event_date in dates:\n",
    "    event_date = datetime.strptime(event_date, \"%d %B %Y\").date()\n",
    "    if event_date >= current_date:\n",
    "        # If the event date is in the future, set VALID_DATE to 1\n",
    "        cursor2.execute(\"UPDATE EVENT_LIST SET VALID_DATE = 1 WHERE TO_DATE(DATE, 'DD Month YYYY') = %s\", (event_date,))\n",
    "    else:\n",
    "        # If the event date is in the past, set VALID_DATE to 0\n",
    "        cursor2.execute(\"UPDATE EVENT_LIST SET VALID_DATE = 0 WHERE TO_DATE(DATE, 'DD Month YYYY') = %s\", (event_date,))\n"
   ]
  },
  {
   "cell_type": "code",
   "execution_count": null,
   "id": "8879c9db",
   "metadata": {},
   "outputs": [],
   "source": []
  },
  {
   "cell_type": "code",
   "execution_count": null,
   "id": "61c7b931",
   "metadata": {},
   "outputs": [],
   "source": []
  },
  {
   "cell_type": "code",
   "execution_count": null,
   "id": "afed987f",
   "metadata": {},
   "outputs": [],
   "source": []
  },
  {
   "cell_type": "code",
   "execution_count": null,
   "id": "785eaa61",
   "metadata": {},
   "outputs": [],
   "source": []
  },
  {
   "cell_type": "code",
   "execution_count": null,
   "id": "f62592c5",
   "metadata": {},
   "outputs": [],
   "source": []
  },
  {
   "cell_type": "code",
   "execution_count": 14,
   "id": "1a848884",
   "metadata": {},
   "outputs": [],
   "source": [
    "# Commit your changes in the database\n",
    "conn.commit()\n",
    "\n",
    "# Closing the connection\n",
    "conn.close()"
   ]
  }
 ],
 "metadata": {
  "kernelspec": {
   "display_name": "Python 3 (ipykernel)",
   "language": "python",
   "name": "python3"
  },
  "language_info": {
   "codemirror_mode": {
    "name": "ipython",
    "version": 3
   },
   "file_extension": ".py",
   "mimetype": "text/x-python",
   "name": "python",
   "nbconvert_exporter": "python",
   "pygments_lexer": "ipython3",
   "version": "3.11.2"
  }
 },
 "nbformat": 4,
 "nbformat_minor": 5
}
